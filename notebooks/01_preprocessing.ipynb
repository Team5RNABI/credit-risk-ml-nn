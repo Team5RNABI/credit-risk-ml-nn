{
 "cells": [
  {
   "cell_type": "code",
   "execution_count": 2,
   "id": "ee034228",
   "metadata": {},
   "outputs": [
    {
     "name": "stderr",
     "output_type": "stream",
     "text": [
      "c:\\Users\\deivi\\OneDrive\\Escritorio\\Nueva carpeta\\credit-risk-ml-nn\\env\\Lib\\site-packages\\tqdm\\auto.py:21: TqdmWarning: IProgress not found. Please update jupyter and ipywidgets. See https://ipywidgets.readthedocs.io/en/stable/user_install.html\n",
      "  from .autonotebook import tqdm as notebook_tqdm\n"
     ]
    }
   ],
   "source": [
    "#Librerias\n",
    "import pandas as pd\n",
    "import os\n",
    "import kagglehub\n",
    "import numpy as np\n",
    "import warnings\n",
    "import seaborn as sns\n",
    "import matplotlib.pyplot as plt\n",
    "warnings.filterwarnings(\"ignore\")\n",
    "from sklearn.ensemble import RandomForestRegressor"
   ]
  },
  {
   "cell_type": "markdown",
   "id": "b650ffca",
   "metadata": {},
   "source": [
    "##  ***1- Importamos el Dataset***"
   ]
  },
  {
   "cell_type": "code",
   "execution_count": 3,
   "id": "ad6e5db1",
   "metadata": {},
   "outputs": [],
   "source": [
    "#Obtengo las variables de entorno para conectarme a Kaggle\n",
    "os.environ['KAGGLE_USERNAME'] = 'dcastro88'\n",
    "os.environ['KAGGLE_KEY'] = '95e973135228bcb7f521606e2c6e767a'"
   ]
  },
  {
   "cell_type": "code",
   "execution_count": 4,
   "id": "0c9f2508",
   "metadata": {},
   "outputs": [
    {
     "name": "stdout",
     "output_type": "stream",
     "text": [
      "Ruta local del dataset: C:\\Users\\deivi\\.cache\\kagglehub\\datasets\\ranadeep\\credit-risk-dataset\\versions\\3\n"
     ]
    }
   ],
   "source": [
    "path = kagglehub.dataset_download(\"ranadeep/credit-risk-dataset\")\n",
    "print(\"Ruta local del dataset:\", path)"
   ]
  },
  {
   "cell_type": "code",
   "execution_count": 5,
   "id": "2309b524",
   "metadata": {},
   "outputs": [
    {
     "data": {
      "text/html": [
       "<div>\n",
       "<style scoped>\n",
       "    .dataframe tbody tr th:only-of-type {\n",
       "        vertical-align: middle;\n",
       "    }\n",
       "\n",
       "    .dataframe tbody tr th {\n",
       "        vertical-align: top;\n",
       "    }\n",
       "\n",
       "    .dataframe thead th {\n",
       "        text-align: right;\n",
       "    }\n",
       "</style>\n",
       "<table border=\"1\" class=\"dataframe\">\n",
       "  <thead>\n",
       "    <tr style=\"text-align: right;\">\n",
       "      <th></th>\n",
       "      <th>id</th>\n",
       "      <th>member_id</th>\n",
       "      <th>loan_amnt</th>\n",
       "      <th>funded_amnt</th>\n",
       "      <th>funded_amnt_inv</th>\n",
       "      <th>term</th>\n",
       "      <th>int_rate</th>\n",
       "      <th>installment</th>\n",
       "      <th>grade</th>\n",
       "      <th>sub_grade</th>\n",
       "      <th>...</th>\n",
       "      <th>total_bal_il</th>\n",
       "      <th>il_util</th>\n",
       "      <th>open_rv_12m</th>\n",
       "      <th>open_rv_24m</th>\n",
       "      <th>max_bal_bc</th>\n",
       "      <th>all_util</th>\n",
       "      <th>total_rev_hi_lim</th>\n",
       "      <th>inq_fi</th>\n",
       "      <th>total_cu_tl</th>\n",
       "      <th>inq_last_12m</th>\n",
       "    </tr>\n",
       "  </thead>\n",
       "  <tbody>\n",
       "    <tr>\n",
       "      <th>0</th>\n",
       "      <td>1077501</td>\n",
       "      <td>1296599</td>\n",
       "      <td>5000.0</td>\n",
       "      <td>5000.0</td>\n",
       "      <td>4975.0</td>\n",
       "      <td>36 months</td>\n",
       "      <td>10.65</td>\n",
       "      <td>162.87</td>\n",
       "      <td>B</td>\n",
       "      <td>B2</td>\n",
       "      <td>...</td>\n",
       "      <td>NaN</td>\n",
       "      <td>NaN</td>\n",
       "      <td>NaN</td>\n",
       "      <td>NaN</td>\n",
       "      <td>NaN</td>\n",
       "      <td>NaN</td>\n",
       "      <td>NaN</td>\n",
       "      <td>NaN</td>\n",
       "      <td>NaN</td>\n",
       "      <td>NaN</td>\n",
       "    </tr>\n",
       "    <tr>\n",
       "      <th>1</th>\n",
       "      <td>1077430</td>\n",
       "      <td>1314167</td>\n",
       "      <td>2500.0</td>\n",
       "      <td>2500.0</td>\n",
       "      <td>2500.0</td>\n",
       "      <td>60 months</td>\n",
       "      <td>15.27</td>\n",
       "      <td>59.83</td>\n",
       "      <td>C</td>\n",
       "      <td>C4</td>\n",
       "      <td>...</td>\n",
       "      <td>NaN</td>\n",
       "      <td>NaN</td>\n",
       "      <td>NaN</td>\n",
       "      <td>NaN</td>\n",
       "      <td>NaN</td>\n",
       "      <td>NaN</td>\n",
       "      <td>NaN</td>\n",
       "      <td>NaN</td>\n",
       "      <td>NaN</td>\n",
       "      <td>NaN</td>\n",
       "    </tr>\n",
       "    <tr>\n",
       "      <th>2</th>\n",
       "      <td>1077175</td>\n",
       "      <td>1313524</td>\n",
       "      <td>2400.0</td>\n",
       "      <td>2400.0</td>\n",
       "      <td>2400.0</td>\n",
       "      <td>36 months</td>\n",
       "      <td>15.96</td>\n",
       "      <td>84.33</td>\n",
       "      <td>C</td>\n",
       "      <td>C5</td>\n",
       "      <td>...</td>\n",
       "      <td>NaN</td>\n",
       "      <td>NaN</td>\n",
       "      <td>NaN</td>\n",
       "      <td>NaN</td>\n",
       "      <td>NaN</td>\n",
       "      <td>NaN</td>\n",
       "      <td>NaN</td>\n",
       "      <td>NaN</td>\n",
       "      <td>NaN</td>\n",
       "      <td>NaN</td>\n",
       "    </tr>\n",
       "    <tr>\n",
       "      <th>3</th>\n",
       "      <td>1076863</td>\n",
       "      <td>1277178</td>\n",
       "      <td>10000.0</td>\n",
       "      <td>10000.0</td>\n",
       "      <td>10000.0</td>\n",
       "      <td>36 months</td>\n",
       "      <td>13.49</td>\n",
       "      <td>339.31</td>\n",
       "      <td>C</td>\n",
       "      <td>C1</td>\n",
       "      <td>...</td>\n",
       "      <td>NaN</td>\n",
       "      <td>NaN</td>\n",
       "      <td>NaN</td>\n",
       "      <td>NaN</td>\n",
       "      <td>NaN</td>\n",
       "      <td>NaN</td>\n",
       "      <td>NaN</td>\n",
       "      <td>NaN</td>\n",
       "      <td>NaN</td>\n",
       "      <td>NaN</td>\n",
       "    </tr>\n",
       "    <tr>\n",
       "      <th>4</th>\n",
       "      <td>1075358</td>\n",
       "      <td>1311748</td>\n",
       "      <td>3000.0</td>\n",
       "      <td>3000.0</td>\n",
       "      <td>3000.0</td>\n",
       "      <td>60 months</td>\n",
       "      <td>12.69</td>\n",
       "      <td>67.79</td>\n",
       "      <td>B</td>\n",
       "      <td>B5</td>\n",
       "      <td>...</td>\n",
       "      <td>NaN</td>\n",
       "      <td>NaN</td>\n",
       "      <td>NaN</td>\n",
       "      <td>NaN</td>\n",
       "      <td>NaN</td>\n",
       "      <td>NaN</td>\n",
       "      <td>NaN</td>\n",
       "      <td>NaN</td>\n",
       "      <td>NaN</td>\n",
       "      <td>NaN</td>\n",
       "    </tr>\n",
       "  </tbody>\n",
       "</table>\n",
       "<p>5 rows × 74 columns</p>\n",
       "</div>"
      ],
      "text/plain": [
       "        id  member_id  loan_amnt  funded_amnt  funded_amnt_inv        term  \\\n",
       "0  1077501    1296599     5000.0       5000.0           4975.0   36 months   \n",
       "1  1077430    1314167     2500.0       2500.0           2500.0   60 months   \n",
       "2  1077175    1313524     2400.0       2400.0           2400.0   36 months   \n",
       "3  1076863    1277178    10000.0      10000.0          10000.0   36 months   \n",
       "4  1075358    1311748     3000.0       3000.0           3000.0   60 months   \n",
       "\n",
       "   int_rate  installment grade sub_grade  ... total_bal_il il_util  \\\n",
       "0     10.65       162.87     B        B2  ...          NaN     NaN   \n",
       "1     15.27        59.83     C        C4  ...          NaN     NaN   \n",
       "2     15.96        84.33     C        C5  ...          NaN     NaN   \n",
       "3     13.49       339.31     C        C1  ...          NaN     NaN   \n",
       "4     12.69        67.79     B        B5  ...          NaN     NaN   \n",
       "\n",
       "  open_rv_12m  open_rv_24m max_bal_bc all_util total_rev_hi_lim inq_fi  \\\n",
       "0         NaN          NaN        NaN      NaN              NaN    NaN   \n",
       "1         NaN          NaN        NaN      NaN              NaN    NaN   \n",
       "2         NaN          NaN        NaN      NaN              NaN    NaN   \n",
       "3         NaN          NaN        NaN      NaN              NaN    NaN   \n",
       "4         NaN          NaN        NaN      NaN              NaN    NaN   \n",
       "\n",
       "  total_cu_tl inq_last_12m  \n",
       "0         NaN          NaN  \n",
       "1         NaN          NaN  \n",
       "2         NaN          NaN  \n",
       "3         NaN          NaN  \n",
       "4         NaN          NaN  \n",
       "\n",
       "[5 rows x 74 columns]"
      ]
     },
     "execution_count": 5,
     "metadata": {},
     "output_type": "execute_result"
    }
   ],
   "source": [
    "filename = \"loan/loan.csv\"\n",
    "data = pd.read_csv(os.path.join(path, filename), low_memory=False)\n",
    "data.head()"
   ]
  },
  {
   "cell_type": "markdown",
   "id": "31cff0d7",
   "metadata": {},
   "source": [
    "## ***2- Inspección Inicial***"
   ]
  },
  {
   "cell_type": "code",
   "execution_count": 6,
   "id": "d1f0d8f7",
   "metadata": {},
   "outputs": [
    {
     "data": {
      "text/plain": [
       "(887379, 74)"
      ]
     },
     "execution_count": 6,
     "metadata": {},
     "output_type": "execute_result"
    }
   ],
   "source": [
    "data.shape"
   ]
  },
  {
   "cell_type": "markdown",
   "id": "e7b48489",
   "metadata": {},
   "source": [
    "887379 registros y 74 variables"
   ]
  },
  {
   "cell_type": "code",
   "execution_count": 7,
   "id": "6cb51988",
   "metadata": {},
   "outputs": [
    {
     "name": "stdout",
     "output_type": "stream",
     "text": [
      "<class 'pandas.core.frame.DataFrame'>\n",
      "RangeIndex: 887379 entries, 0 to 887378\n",
      "Data columns (total 74 columns):\n",
      " #   Column                       Non-Null Count   Dtype  \n",
      "---  ------                       --------------   -----  \n",
      " 0   id                           887379 non-null  int64  \n",
      " 1   member_id                    887379 non-null  int64  \n",
      " 2   loan_amnt                    887379 non-null  float64\n",
      " 3   funded_amnt                  887379 non-null  float64\n",
      " 4   funded_amnt_inv              887379 non-null  float64\n",
      " 5   term                         887379 non-null  object \n",
      " 6   int_rate                     887379 non-null  float64\n",
      " 7   installment                  887379 non-null  float64\n",
      " 8   grade                        887379 non-null  object \n",
      " 9   sub_grade                    887379 non-null  object \n",
      " 10  emp_title                    835917 non-null  object \n",
      " 11  emp_length                   842554 non-null  object \n",
      " 12  home_ownership               887379 non-null  object \n",
      " 13  annual_inc                   887375 non-null  float64\n",
      " 14  verification_status          887379 non-null  object \n",
      " 15  issue_d                      887379 non-null  object \n",
      " 16  loan_status                  887379 non-null  object \n",
      " 17  pymnt_plan                   887379 non-null  object \n",
      " 18  url                          887379 non-null  object \n",
      " 19  desc                         126026 non-null  object \n",
      " 20  purpose                      887379 non-null  object \n",
      " 21  title                        887226 non-null  object \n",
      " 22  zip_code                     887379 non-null  object \n",
      " 23  addr_state                   887379 non-null  object \n",
      " 24  dti                          887379 non-null  float64\n",
      " 25  delinq_2yrs                  887350 non-null  float64\n",
      " 26  earliest_cr_line             887350 non-null  object \n",
      " 27  inq_last_6mths               887350 non-null  float64\n",
      " 28  mths_since_last_delinq       433067 non-null  float64\n",
      " 29  mths_since_last_record       137053 non-null  float64\n",
      " 30  open_acc                     887350 non-null  float64\n",
      " 31  pub_rec                      887350 non-null  float64\n",
      " 32  revol_bal                    887379 non-null  float64\n",
      " 33  revol_util                   886877 non-null  float64\n",
      " 34  total_acc                    887350 non-null  float64\n",
      " 35  initial_list_status          887379 non-null  object \n",
      " 36  out_prncp                    887379 non-null  float64\n",
      " 37  out_prncp_inv                887379 non-null  float64\n",
      " 38  total_pymnt                  887379 non-null  float64\n",
      " 39  total_pymnt_inv              887379 non-null  float64\n",
      " 40  total_rec_prncp              887379 non-null  float64\n",
      " 41  total_rec_int                887379 non-null  float64\n",
      " 42  total_rec_late_fee           887379 non-null  float64\n",
      " 43  recoveries                   887379 non-null  float64\n",
      " 44  collection_recovery_fee      887379 non-null  float64\n",
      " 45  last_pymnt_d                 869720 non-null  object \n",
      " 46  last_pymnt_amnt              887379 non-null  float64\n",
      " 47  next_pymnt_d                 634408 non-null  object \n",
      " 48  last_credit_pull_d           887326 non-null  object \n",
      " 49  collections_12_mths_ex_med   887234 non-null  float64\n",
      " 50  mths_since_last_major_derog  221703 non-null  float64\n",
      " 51  policy_code                  887379 non-null  float64\n",
      " 52  application_type             887379 non-null  object \n",
      " 53  annual_inc_joint             511 non-null     float64\n",
      " 54  dti_joint                    509 non-null     float64\n",
      " 55  verification_status_joint    511 non-null     object \n",
      " 56  acc_now_delinq               887350 non-null  float64\n",
      " 57  tot_coll_amt                 817103 non-null  float64\n",
      " 58  tot_cur_bal                  817103 non-null  float64\n",
      " 59  open_acc_6m                  21372 non-null   float64\n",
      " 60  open_il_6m                   21372 non-null   float64\n",
      " 61  open_il_12m                  21372 non-null   float64\n",
      " 62  open_il_24m                  21372 non-null   float64\n",
      " 63  mths_since_rcnt_il           20810 non-null   float64\n",
      " 64  total_bal_il                 21372 non-null   float64\n",
      " 65  il_util                      18617 non-null   float64\n",
      " 66  open_rv_12m                  21372 non-null   float64\n",
      " 67  open_rv_24m                  21372 non-null   float64\n",
      " 68  max_bal_bc                   21372 non-null   float64\n",
      " 69  all_util                     21372 non-null   float64\n",
      " 70  total_rev_hi_lim             817103 non-null  float64\n",
      " 71  inq_fi                       21372 non-null   float64\n",
      " 72  total_cu_tl                  21372 non-null   float64\n",
      " 73  inq_last_12m                 21372 non-null   float64\n",
      "dtypes: float64(49), int64(2), object(23)\n",
      "memory usage: 501.0+ MB\n"
     ]
    }
   ],
   "source": [
    "data.info()"
   ]
  },
  {
   "cell_type": "code",
   "execution_count": 9,
   "id": "38cbd572",
   "metadata": {},
   "outputs": [
    {
     "name": "stdout",
     "output_type": "stream",
     "text": [
      "id                   0.000000\n",
      "member_id            0.000000\n",
      "loan_amnt            0.000000\n",
      "funded_amnt          0.000000\n",
      "funded_amnt_inv      0.000000\n",
      "                      ...    \n",
      "all_util            97.591559\n",
      "total_rev_hi_lim     7.919502\n",
      "inq_fi              97.591559\n",
      "total_cu_tl         97.591559\n",
      "inq_last_12m        97.591559\n",
      "Length: 74, dtype: float64\n"
     ]
    }
   ],
   "source": [
    "#Primera limpieza de faltantes\n",
    "null_percent = data.isnull().mean() * 100\n",
    "print(null_percent)"
   ]
  },
  {
   "cell_type": "code",
   "execution_count": 10,
   "id": "94518adb",
   "metadata": {},
   "outputs": [
    {
     "name": "stdout",
     "output_type": "stream",
     "text": [
      "Columnas a eliminar: 22\n",
      "Index(['desc', 'mths_since_last_delinq', 'mths_since_last_record',\n",
      "       'next_pymnt_d', 'mths_since_last_major_derog', 'annual_inc_joint',\n",
      "       'dti_joint', 'verification_status_joint', 'open_acc_6m', 'open_il_6m',\n",
      "       'open_il_12m', 'open_il_24m', 'mths_since_rcnt_il', 'total_bal_il',\n",
      "       'il_util', 'open_rv_12m', 'open_rv_24m', 'max_bal_bc', 'all_util',\n",
      "       'inq_fi', 'total_cu_tl', 'inq_last_12m'],\n",
      "      dtype='object')\n"
     ]
    }
   ],
   "source": [
    "cols_to_drop = null_percent[null_percent > 10].index\n",
    "print(f\"Columnas a eliminar: {len(cols_to_drop)}\")\n",
    "print(cols_to_drop)"
   ]
  },
  {
   "cell_type": "code",
   "execution_count": 12,
   "id": "48843e33",
   "metadata": {},
   "outputs": [],
   "source": [
    "data_cleaned = data.drop(columns=cols_to_drop)"
   ]
  },
  {
   "cell_type": "code",
   "execution_count": 13,
   "id": "2619703b",
   "metadata": {},
   "outputs": [
    {
     "name": "stdout",
     "output_type": "stream",
     "text": [
      "<class 'pandas.core.frame.DataFrame'>\n",
      "RangeIndex: 887379 entries, 0 to 887378\n",
      "Data columns (total 52 columns):\n",
      " #   Column                      Non-Null Count   Dtype  \n",
      "---  ------                      --------------   -----  \n",
      " 0   id                          887379 non-null  int64  \n",
      " 1   member_id                   887379 non-null  int64  \n",
      " 2   loan_amnt                   887379 non-null  float64\n",
      " 3   funded_amnt                 887379 non-null  float64\n",
      " 4   funded_amnt_inv             887379 non-null  float64\n",
      " 5   term                        887379 non-null  object \n",
      " 6   int_rate                    887379 non-null  float64\n",
      " 7   installment                 887379 non-null  float64\n",
      " 8   grade                       887379 non-null  object \n",
      " 9   sub_grade                   887379 non-null  object \n",
      " 10  emp_title                   835917 non-null  object \n",
      " 11  emp_length                  842554 non-null  object \n",
      " 12  home_ownership              887379 non-null  object \n",
      " 13  annual_inc                  887375 non-null  float64\n",
      " 14  verification_status         887379 non-null  object \n",
      " 15  issue_d                     887379 non-null  object \n",
      " 16  loan_status                 887379 non-null  object \n",
      " 17  pymnt_plan                  887379 non-null  object \n",
      " 18  url                         887379 non-null  object \n",
      " 19  purpose                     887379 non-null  object \n",
      " 20  title                       887226 non-null  object \n",
      " 21  zip_code                    887379 non-null  object \n",
      " 22  addr_state                  887379 non-null  object \n",
      " 23  dti                         887379 non-null  float64\n",
      " 24  delinq_2yrs                 887350 non-null  float64\n",
      " 25  earliest_cr_line            887350 non-null  object \n",
      " 26  inq_last_6mths              887350 non-null  float64\n",
      " 27  open_acc                    887350 non-null  float64\n",
      " 28  pub_rec                     887350 non-null  float64\n",
      " 29  revol_bal                   887379 non-null  float64\n",
      " 30  revol_util                  886877 non-null  float64\n",
      " 31  total_acc                   887350 non-null  float64\n",
      " 32  initial_list_status         887379 non-null  object \n",
      " 33  out_prncp                   887379 non-null  float64\n",
      " 34  out_prncp_inv               887379 non-null  float64\n",
      " 35  total_pymnt                 887379 non-null  float64\n",
      " 36  total_pymnt_inv             887379 non-null  float64\n",
      " 37  total_rec_prncp             887379 non-null  float64\n",
      " 38  total_rec_int               887379 non-null  float64\n",
      " 39  total_rec_late_fee          887379 non-null  float64\n",
      " 40  recoveries                  887379 non-null  float64\n",
      " 41  collection_recovery_fee     887379 non-null  float64\n",
      " 42  last_pymnt_d                869720 non-null  object \n",
      " 43  last_pymnt_amnt             887379 non-null  float64\n",
      " 44  last_credit_pull_d          887326 non-null  object \n",
      " 45  collections_12_mths_ex_med  887234 non-null  float64\n",
      " 46  policy_code                 887379 non-null  float64\n",
      " 47  application_type            887379 non-null  object \n",
      " 48  acc_now_delinq              887350 non-null  float64\n",
      " 49  tot_coll_amt                817103 non-null  float64\n",
      " 50  tot_cur_bal                 817103 non-null  float64\n",
      " 51  total_rev_hi_lim            817103 non-null  float64\n",
      "dtypes: float64(30), int64(2), object(20)\n",
      "memory usage: 352.0+ MB\n"
     ]
    }
   ],
   "source": [
    "data_cleaned.info()"
   ]
  },
  {
   "cell_type": "markdown",
   "id": "280a8f20",
   "metadata": {},
   "source": [
    "## ***3- Conversión variable loan status de categórica a binaria***"
   ]
  },
  {
   "cell_type": "code",
   "execution_count": 14,
   "id": "a3f3cbea",
   "metadata": {},
   "outputs": [
    {
     "data": {
      "text/plain": [
       "array(['Fully Paid', 'Charged Off', 'Current', 'Default',\n",
       "       'Late (31-120 days)', 'In Grace Period', 'Late (16-30 days)',\n",
       "       'Does not meet the credit policy. Status:Fully Paid',\n",
       "       'Does not meet the credit policy. Status:Charged Off', 'Issued'],\n",
       "      dtype=object)"
      ]
     },
     "execution_count": 14,
     "metadata": {},
     "output_type": "execute_result"
    }
   ],
   "source": [
    "data_cleaned['loan_status'].unique()"
   ]
  },
  {
   "cell_type": "code",
   "execution_count": 15,
   "id": "a14b8d14",
   "metadata": {},
   "outputs": [],
   "source": [
    "replace_dict = {\n",
    "    'Fully Paid': 0,\n",
    "    'Does not meet the credit policy. Status:Fully Paid': 0,\n",
    "    'Charged Off': 1,\n",
    "    'Default': 1,\n",
    "    'Does not meet the credit policy. Status:Charged Off': 1,\n",
    "    'Late (31-120 days)': 1,\n",
    "    'Late (16-30 days)': np.nan,\n",
    "    'Current': np.nan,\n",
    "    'Issued': np.nan,\n",
    "    'In Grace Period': np.nan\n",
    "}\n",
    "\n",
    "data_cleaned['loan_status_bin'] = data_cleaned['loan_status'].replace(replace_dict)"
   ]
  },
  {
   "cell_type": "code",
   "execution_count": 16,
   "id": "0042b9bf",
   "metadata": {},
   "outputs": [
    {
     "name": "stdout",
     "output_type": "stream",
     "text": [
      "Valores 0 y 1:\n",
      "loan_status_bin\n",
      "0.0    209711\n",
      "1.0     58819\n",
      "Name: count, dtype: int64\n",
      "\n",
      "Cantidad de NaN:\n",
      "618849\n"
     ]
    }
   ],
   "source": [
    "print(\"Valores 0 y 1:\")\n",
    "print(data_cleaned['loan_status_bin'].value_counts())\n",
    "\n",
    "print(\"\\nCantidad de NaN:\")\n",
    "print(data_cleaned['loan_status_bin'].isna().sum())"
   ]
  },
  {
   "cell_type": "markdown",
   "id": "9f0eb2f1",
   "metadata": {},
   "source": [
    "Se descartan los registros que sean nan en la categoria loan status ya que no se tiene certeza sobre su clasificación. "
   ]
  },
  {
   "cell_type": "code",
   "execution_count": 17,
   "id": "1293e19c",
   "metadata": {},
   "outputs": [
    {
     "data": {
      "text/plain": [
       "(268530, 53)"
      ]
     },
     "execution_count": 17,
     "metadata": {},
     "output_type": "execute_result"
    }
   ],
   "source": [
    "data_cleaned = data_cleaned[~data_cleaned['loan_status_bin'].isna()]\n",
    "data_cleaned.shape"
   ]
  },
  {
   "cell_type": "code",
   "execution_count": 18,
   "id": "c59ce404",
   "metadata": {},
   "outputs": [
    {
     "data": {
      "text/plain": [
       "Index(['id', 'member_id', 'loan_amnt', 'funded_amnt', 'funded_amnt_inv',\n",
       "       'term', 'int_rate', 'installment', 'grade', 'sub_grade', 'emp_title',\n",
       "       'emp_length', 'home_ownership', 'annual_inc', 'verification_status',\n",
       "       'issue_d', 'loan_status', 'pymnt_plan', 'url', 'purpose', 'title',\n",
       "       'zip_code', 'addr_state', 'dti', 'delinq_2yrs', 'earliest_cr_line',\n",
       "       'inq_last_6mths', 'open_acc', 'pub_rec', 'revol_bal', 'revol_util',\n",
       "       'total_acc', 'initial_list_status', 'out_prncp', 'out_prncp_inv',\n",
       "       'total_pymnt', 'total_pymnt_inv', 'total_rec_prncp', 'total_rec_int',\n",
       "       'total_rec_late_fee', 'recoveries', 'collection_recovery_fee',\n",
       "       'last_pymnt_d', 'last_pymnt_amnt', 'last_credit_pull_d',\n",
       "       'collections_12_mths_ex_med', 'policy_code', 'application_type',\n",
       "       'acc_now_delinq', 'tot_coll_amt', 'tot_cur_bal', 'total_rev_hi_lim',\n",
       "       'loan_status_bin'],\n",
       "      dtype='object')"
      ]
     },
     "execution_count": 18,
     "metadata": {},
     "output_type": "execute_result"
    }
   ],
   "source": [
    "data_cleaned.columns"
   ]
  },
  {
   "cell_type": "code",
   "execution_count": 19,
   "id": "23d4e666",
   "metadata": {},
   "outputs": [],
   "source": [
    "data_cleaned.head(100).to_clipboard()"
   ]
  },
  {
   "cell_type": "code",
   "execution_count": 20,
   "id": "4c84fdc0",
   "metadata": {},
   "outputs": [
    {
     "data": {
      "text/plain": [
       "268530"
      ]
     },
     "execution_count": 20,
     "metadata": {},
     "output_type": "execute_result"
    }
   ],
   "source": [
    "len(set(data_cleaned['member_id']))"
   ]
  },
  {
   "cell_type": "markdown",
   "id": "ebd4afa7",
   "metadata": {},
   "source": [
    "## ***4 - Limpieza de variables que no aportan valor al objetivo del proyecto***"
   ]
  },
  {
   "cell_type": "code",
   "execution_count": 21,
   "id": "a94e96c2",
   "metadata": {},
   "outputs": [],
   "source": [
    "#Variables que no nos aportan valor\n",
    "data_cleaned = data_cleaned.drop(columns=['id', 'member_id','url','zip_code','emp_title','loan_status'])"
   ]
  },
  {
   "cell_type": "markdown",
   "id": "9856e97b",
   "metadata": {},
   "source": [
    "Hay varias variables en el conjunto de datos que deben ser descartadas para la construcción del scoring crediticio, ya que contienen información que solo está disponible después de que el préstamo ha sido emitido y comienza a ser pagado.\n",
    "\n",
    "out_prncp: Representa el saldo principal restante del préstamo. Esta información refleja cuánto dinero aún debe el prestatario en un momento dado, por lo que solo se conoce después de la aprobación del préstamo.\n",
    "\n",
    "out_prncp_inv: Es el saldo principal restante específicamente del dinero aportado por los inversores. Al igual que la anterior, es una variable que solo se actualiza una vez se ha desembolsado el préstamo y se han hecho pagos.\n",
    "\n",
    "total_pymnt: Muestra la suma total de todos los pagos realizados por el prestatario hasta la fecha. Refleja el comportamiento histórico de pago del cliente, lo cual no se conoce al momento de la evaluación inicial.\n",
    "\n",
    "total_pymnt_inv: Indica el total pagado a los inversores hasta el momento. También depende del comportamiento del cliente tras el desembolso.\n",
    "\n",
    "total_rec_prncp: Corresponde al total del capital que ya ha sido devuelto por el prestatario. Solo se conoce con el paso del tiempo y no puede usarse para predecir el riesgo antes de otorgar el préstamo.\n",
    "\n",
    "total_rec_int: Muestra la suma de intereses ya pagados por el cliente. Es otra variable que depende del historial posterior al otorgamiento.\n",
    "\n",
    "total_rec_late_fee: Indica el total de intereses por pagos atrasados que se han recaudado. Su existencia presupone que el préstamo ya ha sido otorgado y que han ocurrido retrasos.\n",
    "\n",
    "recoveries: Refleja la cantidad de dinero recuperado después de una posible mora o incumplimiento. Es una variable completamente posterior al evento crediticio.\n",
    "\n",
    "collection_recovery_fee: Es la suma pagada por el proceso de recuperación de deuda. Su valor también depende de si hubo incumplimientos luego del préstamo.\n",
    "\n",
    "last_pymnt_d: Fecha del último pago registrado. Claramente, solo puede conocerse una vez el cliente ha empezado a pagar.\n",
    "\n",
    "last_pymnt_amnt: Monto del último pago realizado. Al igual que la fecha, es posterior a la decisión crediticia.\n",
    "\n",
    "last_credit_pull_d: Fecha en la que se obtuvo la información crediticia más reciente. Aunque podría parecer útil, suele estar desactualizada respecto al momento de la solicitud inicial, y no siempre está disponible."
   ]
  },
  {
   "cell_type": "code",
   "execution_count": 22,
   "id": "e0e4a00e",
   "metadata": {},
   "outputs": [
    {
     "data": {
      "text/plain": [
       "Index(['loan_amnt', 'funded_amnt', 'funded_amnt_inv', 'term', 'int_rate',\n",
       "       'installment', 'grade', 'sub_grade', 'emp_length', 'home_ownership',\n",
       "       'annual_inc', 'verification_status', 'issue_d', 'pymnt_plan', 'purpose',\n",
       "       'title', 'addr_state', 'dti', 'delinq_2yrs', 'earliest_cr_line',\n",
       "       'inq_last_6mths', 'open_acc', 'pub_rec', 'revol_bal', 'revol_util',\n",
       "       'total_acc', 'initial_list_status', 'out_prncp', 'out_prncp_inv',\n",
       "       'total_pymnt', 'total_pymnt_inv', 'total_rec_prncp', 'total_rec_int',\n",
       "       'total_rec_late_fee', 'recoveries', 'collection_recovery_fee',\n",
       "       'last_pymnt_d', 'last_pymnt_amnt', 'last_credit_pull_d',\n",
       "       'collections_12_mths_ex_med', 'policy_code', 'application_type',\n",
       "       'acc_now_delinq', 'tot_coll_amt', 'tot_cur_bal', 'total_rev_hi_lim',\n",
       "       'loan_status_bin'],\n",
       "      dtype='object')"
      ]
     },
     "execution_count": 22,
     "metadata": {},
     "output_type": "execute_result"
    }
   ],
   "source": [
    "data_cleaned.columns"
   ]
  },
  {
   "cell_type": "code",
   "execution_count": 23,
   "id": "cb4872af",
   "metadata": {},
   "outputs": [],
   "source": [
    "data_cleaned = data_cleaned.drop(columns=[\n",
    "    'out_prncp',\n",
    "    'out_prncp_inv',\n",
    "    'total_pymnt',\n",
    "    'total_pymnt_inv',\n",
    "    'total_rec_prncp',\n",
    "    'total_rec_int',\n",
    "    'total_rec_late_fee',\n",
    "    'recoveries',\n",
    "    'collection_recovery_fee',\n",
    "    'last_pymnt_d',\n",
    "    'last_pymnt_amnt',\n",
    "    'last_credit_pull_d',\n",
    "    'title',\n",
    "    'policy_code',\n",
    "    'pymnt_plan',\n",
    "    'funded_amnt', \n",
    "    'funded_amnt_inv',\n",
    "    'issue_d',\n",
    "    'pymnt_plan',\n",
    "    'grade', \n",
    "    'sub_grade', \n",
    "    'verification_status',\n",
    "    'initial_list_status',\n",
    "    'int_rate', \n",
    "    'installment',\n",
    "    'term'\n",
    "])"
   ]
  },
  {
   "cell_type": "code",
   "execution_count": 24,
   "id": "1913ff82",
   "metadata": {},
   "outputs": [
    {
     "data": {
      "text/plain": [
       "Index(['loan_amnt', 'emp_length', 'home_ownership', 'annual_inc', 'purpose',\n",
       "       'addr_state', 'dti', 'delinq_2yrs', 'earliest_cr_line',\n",
       "       'inq_last_6mths', 'open_acc', 'pub_rec', 'revol_bal', 'revol_util',\n",
       "       'total_acc', 'collections_12_mths_ex_med', 'application_type',\n",
       "       'acc_now_delinq', 'tot_coll_amt', 'tot_cur_bal', 'total_rev_hi_lim',\n",
       "       'loan_status_bin'],\n",
       "      dtype='object')"
      ]
     },
     "execution_count": 24,
     "metadata": {},
     "output_type": "execute_result"
    }
   ],
   "source": [
    "data_cleaned.columns"
   ]
  },
  {
   "cell_type": "code",
   "execution_count": 25,
   "id": "14325caf",
   "metadata": {},
   "outputs": [
    {
     "name": "stdout",
     "output_type": "stream",
     "text": [
      "<class 'pandas.core.frame.DataFrame'>\n",
      "Index: 268530 entries, 0 to 887371\n",
      "Data columns (total 22 columns):\n",
      " #   Column                      Non-Null Count   Dtype  \n",
      "---  ------                      --------------   -----  \n",
      " 0   loan_amnt                   268530 non-null  float64\n",
      " 1   emp_length                  257809 non-null  object \n",
      " 2   home_ownership              268530 non-null  object \n",
      " 3   annual_inc                  268526 non-null  float64\n",
      " 4   purpose                     268530 non-null  object \n",
      " 5   addr_state                  268530 non-null  object \n",
      " 6   dti                         268530 non-null  float64\n",
      " 7   delinq_2yrs                 268501 non-null  float64\n",
      " 8   earliest_cr_line            268501 non-null  object \n",
      " 9   inq_last_6mths              268501 non-null  float64\n",
      " 10  open_acc                    268501 non-null  float64\n",
      " 11  pub_rec                     268501 non-null  float64\n",
      " 12  revol_bal                   268530 non-null  float64\n",
      " 13  revol_util                  268281 non-null  float64\n",
      " 14  total_acc                   268501 non-null  float64\n",
      " 15  collections_12_mths_ex_med  268385 non-null  float64\n",
      " 16  application_type            268530 non-null  object \n",
      " 17  acc_now_delinq              268501 non-null  float64\n",
      " 18  tot_coll_amt                201934 non-null  float64\n",
      " 19  tot_cur_bal                 201934 non-null  float64\n",
      " 20  total_rev_hi_lim            201934 non-null  float64\n",
      " 21  loan_status_bin             268530 non-null  float64\n",
      "dtypes: float64(16), object(6)\n",
      "memory usage: 47.1+ MB\n"
     ]
    }
   ],
   "source": [
    "data_cleaned.info()"
   ]
  },
  {
   "cell_type": "markdown",
   "id": "b8fce612",
   "metadata": {},
   "source": [
    "## ***5. Limpieza e imputación de valores faltantes***"
   ]
  },
  {
   "cell_type": "markdown",
   "id": "24b92c7a",
   "metadata": {},
   "source": [
    "De las variables elegidas hasta este momento se evalua el porcentaje de datos faltantes"
   ]
  },
  {
   "cell_type": "code",
   "execution_count": 26,
   "id": "4f034a0d",
   "metadata": {},
   "outputs": [
    {
     "data": {
      "text/plain": [
       "tot_coll_amt                  24.800209\n",
       "total_rev_hi_lim              24.800209\n",
       "tot_cur_bal                   24.800209\n",
       "emp_length                     3.992478\n",
       "revol_util                     0.092727\n",
       "collections_12_mths_ex_med     0.053998\n",
       "total_acc                      0.010800\n",
       "acc_now_delinq                 0.010800\n",
       "open_acc                       0.010800\n",
       "pub_rec                        0.010800\n",
       "inq_last_6mths                 0.010800\n",
       "delinq_2yrs                    0.010800\n",
       "earliest_cr_line               0.010800\n",
       "annual_inc                     0.001490\n",
       "addr_state                     0.000000\n",
       "purpose                        0.000000\n",
       "home_ownership                 0.000000\n",
       "loan_amnt                      0.000000\n",
       "revol_bal                      0.000000\n",
       "dti                            0.000000\n",
       "application_type               0.000000\n",
       "loan_status_bin                0.000000\n",
       "dtype: float64"
      ]
     },
     "execution_count": 26,
     "metadata": {},
     "output_type": "execute_result"
    }
   ],
   "source": [
    "missing_percent = data_cleaned.isnull().mean() * 100\n",
    "missing_percent.sort_values(ascending=False)"
   ]
  },
  {
   "cell_type": "markdown",
   "id": "b8b78d06",
   "metadata": {},
   "source": [
    "Acá nos encontramos que hay tres variables tot_coll_amt, total_rev_hi_lim, tot_cur_bal  con un casi 25% de datos faltantes. Pero que en verdad son variables que pueden tener un gran impacto en el riesgo crediticio de una persona. Por lo que se va mirar con los datos que hay actualmente que tanto impacto tienen en el target, y en caso que de ser significativo evaluar algún método de imputación. "
   ]
  },
  {
   "cell_type": "code",
   "execution_count": 27,
   "id": "3c24e381",
   "metadata": {},
   "outputs": [],
   "source": [
    "df1 = data_cleaned[['loan_status_bin','tot_coll_amt','total_rev_hi_lim','tot_cur_bal']]\n",
    "df1 = df1.dropna()"
   ]
  },
  {
   "cell_type": "markdown",
   "id": "bcb29ead",
   "metadata": {},
   "source": [
    "tot_coll_amt (Total Collection Amount): Monto total en dólares de cuentas en cobranza reportadas por las agencias de crédito. Refleja deudas pendientes que han sido enviadas a cobranza.\n",
    "\n",
    "total_rev_hi_lim (Total Revolving High Credit Limit): Suma de los límites máximos de crédito rotativo (como tarjetas de crédito). Indica la capacidad total de endeudamiento disponible para el solicitante en productos rotativos.\n",
    "\n",
    "tot_cur_bal (Total Current Balance): Suma de los saldos actuales de todas las cuentas del solicitante. Da una idea del nivel total de endeudamiento en el momento de la solicitud."
   ]
  },
  {
   "cell_type": "code",
   "execution_count": 28,
   "id": "446523c4",
   "metadata": {},
   "outputs": [
    {
     "data": {
      "image/png": "[encoded data removed]",
      "text/plain": [
       "<Figure size 800x500 with 2 Axes>"
      ]
     },
     "metadata": {},
     "output_type": "display_data"
    }
   ],
   "source": [
    "correlation_matrix = df1.corr(numeric_only=True)\n",
    "plt.figure(figsize=(8, 5))\n",
    "sns.heatmap(correlation_matrix, cmap='viridis', annot=True, fmt=\".2f\", square=True)\n",
    "plt.title('Matriz de Correlación')\n",
    "plt.tight_layout()\n",
    "plt.show()"
   ]
  },
  {
   "cell_type": "markdown",
   "id": "427eacb1",
   "metadata": {},
   "source": [
    "A partir de la matriz de correlación, se observa que no existe una asociación lineal significativa entre ninguna de las tres variables y el target. Sin embargo, se identifica una correlación moderada entre total_rev_hi_lim y tot_cur_bal, lo cual sugiere redundancia entre estas dos variables. Dentro de las tres, la que muestra mayor correlación (aunque débil) con el target es tot_cur_bal, y esta relación es inversa: a mayor saldo actual en las cuentas del solicitante, menor es la probabilidad de impago. Por esta razón, se decide conservar tot_cur_bal para evaluar posibles patrones no lineales más adelante, y descartar tot_coll_amt, por su correlación prácticamente nula, así como total_rev_hi_lim, por su alta relación con tot_cur_bal. Dado que tot_cur_bal será conservada, se procederá a imputar los valores faltantes en esta variable."
   ]
  },
  {
   "cell_type": "code",
   "execution_count": 29,
   "id": "668848eb",
   "metadata": {},
   "outputs": [],
   "source": [
    "data_cleaned.drop(columns=['tot_coll_amt','total_rev_hi_lim'],inplace=True)"
   ]
  },
  {
   "cell_type": "markdown",
   "id": "e62b3a93",
   "metadata": {},
   "source": [
    "Antes de realizar la imputación vamos a corregir los faltantes en las otras variables donde el porcentaje es minimo, empezamos viendo la variable emp_length. "
   ]
  },
  {
   "cell_type": "code",
   "execution_count": 30,
   "id": "f8510c2f",
   "metadata": {},
   "outputs": [
    {
     "data": {
      "text/plain": [
       "emp_length\n",
       "10+ years    81250\n",
       "2 years      25050\n",
       "< 1 year     22461\n",
       "3 years      21684\n",
       "5 years      18993\n",
       "1 year       18076\n",
       "4 years      17140\n",
       "6 years      15571\n",
       "7 years      14849\n",
       "8 years      12582\n",
       "9 years      10153\n",
       "Name: count, dtype: int64"
      ]
     },
     "execution_count": 30,
     "metadata": {},
     "output_type": "execute_result"
    }
   ],
   "source": [
    "data_cleaned['emp_length'].value_counts()"
   ]
  },
  {
   "cell_type": "markdown",
   "id": "90daa1df",
   "metadata": {},
   "source": [
    "Vamos a imputar los valores faltantes aleatoriamente entre las categorías existentes siguiendo la misma proporción que tienen en los datos observados. Para mantener así la distribución original de la variable y evitar sobre-representar la categoría más común (como al imputar con la moda)."
   ]
  },
  {
   "cell_type": "code",
   "execution_count": 31,
   "id": "2cb3489b",
   "metadata": {},
   "outputs": [],
   "source": [
    "np.random.seed(88)\n",
    "emp_length_notnull = data_cleaned['emp_length'].dropna()\n",
    "proportions = emp_length_notnull.value_counts(normalize=True)\n",
    "n_missing = data_cleaned['emp_length'].isna().sum()\n",
    "imputed_values = np.random.choice(proportions.index, size=n_missing, p=proportions.values)\n",
    "data_cleaned.loc[data_cleaned['emp_length'].isna(), 'emp_length'] = imputed_values"
   ]
  },
  {
   "cell_type": "markdown",
   "id": "d9d10e2d",
   "metadata": {},
   "source": [
    "El resto de variables que tienen menos del 0.1 % de datos faltantes se proceden a imputar con la mediana y con la moda, en variables numéricas y categóricas respectivamente. "
   ]
  },
  {
   "cell_type": "code",
   "execution_count": 32,
   "id": "7a880735",
   "metadata": {},
   "outputs": [
    {
     "data": {
      "text/plain": [
       "['annual_inc',\n",
       " 'delinq_2yrs',\n",
       " 'earliest_cr_line',\n",
       " 'inq_last_6mths',\n",
       " 'open_acc',\n",
       " 'pub_rec',\n",
       " 'revol_util',\n",
       " 'total_acc',\n",
       " 'collections_12_mths_ex_med',\n",
       " 'acc_now_delinq',\n",
       " 'tot_cur_bal']"
      ]
     },
     "execution_count": 32,
     "metadata": {},
     "output_type": "execute_result"
    }
   ],
   "source": [
    "data_cleaned.columns[data_cleaned.isnull().any()].tolist()"
   ]
  },
  {
   "cell_type": "code",
   "execution_count": 33,
   "id": "c4ee3909",
   "metadata": {},
   "outputs": [
    {
     "name": "stdout",
     "output_type": "stream",
     "text": [
      "<class 'pandas.core.frame.DataFrame'>\n",
      "Index: 268530 entries, 0 to 887371\n",
      "Data columns (total 11 columns):\n",
      " #   Column                      Non-Null Count   Dtype  \n",
      "---  ------                      --------------   -----  \n",
      " 0   annual_inc                  268526 non-null  float64\n",
      " 1   delinq_2yrs                 268501 non-null  float64\n",
      " 2   earliest_cr_line            268501 non-null  object \n",
      " 3   inq_last_6mths              268501 non-null  float64\n",
      " 4   open_acc                    268501 non-null  float64\n",
      " 5   pub_rec                     268501 non-null  float64\n",
      " 6   revol_util                  268281 non-null  float64\n",
      " 7   total_acc                   268501 non-null  float64\n",
      " 8   collections_12_mths_ex_med  268385 non-null  float64\n",
      " 9   acc_now_delinq              268501 non-null  float64\n",
      " 10  tot_cur_bal                 201934 non-null  float64\n",
      "dtypes: float64(10), object(1)\n",
      "memory usage: 24.6+ MB\n"
     ]
    }
   ],
   "source": [
    "data_cleaned[data_cleaned.columns[data_cleaned.isnull().any()].tolist()].info()"
   ]
  },
  {
   "cell_type": "code",
   "execution_count": 34,
   "id": "8d83c1ae",
   "metadata": {},
   "outputs": [],
   "source": [
    "#Imputamos las variables numéricas continuas o discretas con muchos valores disitintos, con la mediana\n",
    "cols_to_impute1 = ['annual_inc', 'open_acc', 'pub_rec', 'revol_util', 'total_acc']\n",
    "\n",
    "for col in cols_to_impute1:\n",
    "    median_value = data_cleaned[col].median()\n",
    "    data_cleaned[col].fillna(median_value, inplace=True)"
   ]
  },
  {
   "cell_type": "code",
   "execution_count": 35,
   "id": "f42b1f60",
   "metadata": {},
   "outputs": [],
   "source": [
    "#Imputamos las variables categóricas o numéricos con valores discretos, con la moda\n",
    "cols_to_impute2 = ['delinq_2yrs','earliest_cr_line','inq_last_6mths','collections_12_mths_ex_med', 'acc_now_delinq']\n",
    "\n",
    "for col in cols_to_impute2:\n",
    "    mode_value = data_cleaned[col].mode()[0]\n",
    "    data_cleaned[col].fillna(mode_value, inplace=True)"
   ]
  },
  {
   "cell_type": "code",
   "execution_count": 36,
   "id": "a794a3ef",
   "metadata": {},
   "outputs": [
    {
     "name": "stdout",
     "output_type": "stream",
     "text": [
      "<class 'pandas.core.frame.DataFrame'>\n",
      "Index: 268530 entries, 0 to 887371\n",
      "Data columns (total 20 columns):\n",
      " #   Column                      Non-Null Count   Dtype  \n",
      "---  ------                      --------------   -----  \n",
      " 0   loan_amnt                   268530 non-null  float64\n",
      " 1   emp_length                  268530 non-null  object \n",
      " 2   home_ownership              268530 non-null  object \n",
      " 3   annual_inc                  268530 non-null  float64\n",
      " 4   purpose                     268530 non-null  object \n",
      " 5   addr_state                  268530 non-null  object \n",
      " 6   dti                         268530 non-null  float64\n",
      " 7   delinq_2yrs                 268530 non-null  float64\n",
      " 8   earliest_cr_line            268530 non-null  object \n",
      " 9   inq_last_6mths              268530 non-null  float64\n",
      " 10  open_acc                    268530 non-null  float64\n",
      " 11  pub_rec                     268530 non-null  float64\n",
      " 12  revol_bal                   268530 non-null  float64\n",
      " 13  revol_util                  268530 non-null  float64\n",
      " 14  total_acc                   268530 non-null  float64\n",
      " 15  collections_12_mths_ex_med  268530 non-null  float64\n",
      " 16  application_type            268530 non-null  object \n",
      " 17  acc_now_delinq              268530 non-null  float64\n",
      " 18  tot_cur_bal                 201934 non-null  float64\n",
      " 19  loan_status_bin             268530 non-null  float64\n",
      "dtypes: float64(14), object(6)\n",
      "memory usage: 43.0+ MB\n"
     ]
    }
   ],
   "source": [
    "data_cleaned.info()"
   ]
  },
  {
   "cell_type": "code",
   "execution_count": null,
   "id": "3e2e12ba",
   "metadata": {},
   "outputs": [
    {
     "data": {
      "text/plain": [
       "Index(['loan_amnt', 'emp_length', 'home_ownership', 'annual_inc', 'purpose',\n",
       "       'addr_state', 'dti', 'delinq_2yrs', 'earliest_cr_line',\n",
       "       'inq_last_6mths', 'open_acc', 'pub_rec', 'revol_bal', 'revol_util',\n",
       "       'total_acc', 'collections_12_mths_ex_med', 'application_type',\n",
       "       'acc_now_delinq', 'tot_cur_bal', 'loan_status_bin'],\n",
       "      dtype='object')"
      ]
     },
     "execution_count": 167,
     "metadata": {},
     "output_type": "execute_result"
    }
   ],
   "source": [
    "data_cleaned.columns"
   ]
  },
  {
   "cell_type": "markdown",
   "id": "bb937d99",
   "metadata": {},
   "source": [
    "Usamos RandomForest Regressor para determinar inputar la variable 'tot_cur_bal', y para practicidad se van usar únicamente las variables numéricas. Este resultado es una mejor aproximación, que utilizar la media o la mediana, debido a la gran porcentaje de valores faltantes. "
   ]
  },
  {
   "cell_type": "code",
   "execution_count": 37,
   "id": "f225e34a",
   "metadata": {},
   "outputs": [],
   "source": [
    "numeric_df = data_cleaned[['loan_amnt', 'annual_inc', 'dti', 'delinq_2yrs',\n",
    "       'inq_last_6mths', 'open_acc', 'pub_rec', 'revol_bal', 'revol_util',\n",
    "       'total_acc', 'collections_12_mths_ex_med',\n",
    "       'acc_now_delinq', 'tot_cur_bal']].select_dtypes(include='number')\n",
    "df_notnull = numeric_df[numeric_df['tot_cur_bal'].notnull()]\n",
    "df_null = numeric_df[numeric_df['tot_cur_bal'].isnull()]"
   ]
  },
  {
   "cell_type": "code",
   "execution_count": 39,
   "id": "27539349",
   "metadata": {},
   "outputs": [
    {
     "data": {
      "text/plain": [
       "np.float64(137111.3532936504)"
      ]
     },
     "execution_count": 39,
     "metadata": {},
     "output_type": "execute_result"
    }
   ],
   "source": [
    "df_notnull['tot_cur_bal'].mean()"
   ]
  },
  {
   "cell_type": "code",
   "execution_count": 40,
   "id": "fbe6fa2e",
   "metadata": {},
   "outputs": [
    {
     "data": {
      "text/plain": [
       "count    2.019340e+05\n",
       "mean     1.371114e+05\n",
       "std      1.514205e+05\n",
       "min      0.000000e+00\n",
       "25%      2.830400e+04\n",
       "50%      7.912400e+04\n",
       "75%      2.064080e+05\n",
       "max      8.000078e+06\n",
       "Name: tot_cur_bal, dtype: float64"
      ]
     },
     "execution_count": 40,
     "metadata": {},
     "output_type": "execute_result"
    }
   ],
   "source": [
    "df_notnull['tot_cur_bal'].describe()"
   ]
  },
  {
   "cell_type": "code",
   "execution_count": 41,
   "id": "b61b2246",
   "metadata": {},
   "outputs": [
    {
     "data": {
      "text/plain": [
       "((201934, 13), (66596, 13))"
      ]
     },
     "execution_count": 41,
     "metadata": {},
     "output_type": "execute_result"
    }
   ],
   "source": [
    "df_notnull.shape, df_null.shape"
   ]
  },
  {
   "cell_type": "code",
   "execution_count": null,
   "id": "22c1f09f",
   "metadata": {},
   "outputs": [],
   "source": [
    "X_train = df_notnull.drop(columns='tot_cur_bal')\n",
    "y_train = df_notnull['tot_cur_bal']"
   ]
  },
  {
   "cell_type": "code",
   "execution_count": null,
   "id": "93256b4e",
   "metadata": {},
   "outputs": [
    {
     "data": {
      "text/html": [
       "<style>#sk-container-id-1 {\n",
       "  /* Definition of color scheme common for light and dark mode */\n",
       "  --sklearn-color-text: #000;\n",
       "  --sklearn-color-text-muted: #666;\n",
       "  --sklearn-color-line: gray;\n",
       "  /* Definition of color scheme for unfitted estimators */\n",
       "  --sklearn-color-unfitted-level-0: #fff5e6;\n",
       "  --sklearn-color-unfitted-level-1: #f6e4d2;\n",
       "  --sklearn-color-unfitted-level-2: #ffe0b3;\n",
       "  --sklearn-color-unfitted-level-3: chocolate;\n",
       "  /* Definition of color scheme for fitted estimators */\n",
       "  --sklearn-color-fitted-level-0: #f0f8ff;\n",
       "  --sklearn-color-fitted-level-1: #d4ebff;\n",
       "  --sklearn-color-fitted-level-2: #b3dbfd;\n",
       "  --sklearn-color-fitted-level-3: cornflowerblue;\n",
       "\n",
       "  /* Specific color for light theme */\n",
       "  --sklearn-color-text-on-default-background: var(--sg-text-color, var(--theme-code-foreground, var(--jp-content-font-color1, black)));\n",
       "  --sklearn-color-background: var(--sg-background-color, var(--theme-background, var(--jp-layout-color0, white)));\n",
       "  --sklearn-color-border-box: var(--sg-text-color, var(--theme-code-foreground, var(--jp-content-font-color1, black)));\n",
       "  --sklearn-color-icon: #696969;\n",
       "\n",
       "  @media (prefers-color-scheme: dark) {\n",
       "    /* Redefinition of color scheme for dark theme */\n",
       "    --sklearn-color-text-on-default-background: var(--sg-text-color, var(--theme-code-foreground, var(--jp-content-font-color1, white)));\n",
       "    --sklearn-color-background: var(--sg-background-color, var(--theme-background, var(--jp-layout-color0, #111)));\n",
       "    --sklearn-color-border-box: var(--sg-text-color, var(--theme-code-foreground, var(--jp-content-font-color1, white)));\n",
       "    --sklearn-color-icon: #878787;\n",
       "  }\n",
       "}\n",
       "\n",
       "#sk-container-id-1 {\n",
       "  color: var(--sklearn-color-text);\n",
       "}\n",
       "\n",
       "#sk-container-id-1 pre {\n",
       "  padding: 0;\n",
       "}\n",
       "\n",
       "#sk-container-id-1 input.sk-hidden--visually {\n",
       "  border: 0;\n",
       "  clip: rect(1px 1px 1px 1px);\n",
       "  clip: rect(1px, 1px, 1px, 1px);\n",
       "  height: 1px;\n",
       "  margin: -1px;\n",
       "  overflow: hidden;\n",
       "  padding: 0;\n",
       "  position: absolute;\n",
       "  width: 1px;\n",
       "}\n",
       "\n",
       "#sk-container-id-1 div.sk-dashed-wrapped {\n",
       "  border: 1px dashed var(--sklearn-color-line);\n",
       "  margin: 0 0.4em 0.5em 0.4em;\n",
       "  box-sizing: border-box;\n",
       "  padding-bottom: 0.4em;\n",
       "  background-color: var(--sklearn-color-background);\n",
       "}\n",
       "\n",
       "#sk-container-id-1 div.sk-container {\n",
       "  /* jupyter's `normalize.less` sets `[hidden] { display: none; }`\n",
       "     but bootstrap.min.css set `[hidden] { display: none !important; }`\n",
       "     so we also need the `!important` here to be able to override the\n",
       "     default hidden behavior on the sphinx rendered scikit-learn.org.\n",
       "     See: https://github.com/scikit-learn/scikit-learn/issues/21755 */\n",
       "  display: inline-block !important;\n",
       "  position: relative;\n",
       "}\n",
       "\n",
       "#sk-container-id-1 div.sk-text-repr-fallback {\n",
       "  display: none;\n",
       "}\n",
       "\n",
       "div.sk-parallel-item,\n",
       "div.sk-serial,\n",
       "div.sk-item {\n",
       "  /* draw centered vertical line to link estimators */\n",
       "  background-image: linear-gradient(var(--sklearn-color-text-on-default-background), var(--sklearn-color-text-on-default-background));\n",
       "  background-size: 2px 100%;\n",
       "  background-repeat: no-repeat;\n",
       "  background-position: center center;\n",
       "}\n",
       "\n",
       "/* Parallel-specific style estimator block */\n",
       "\n",
       "#sk-container-id-1 div.sk-parallel-item::after {\n",
       "  content: \"\";\n",
       "  width: 100%;\n",
       "  border-bottom: 2px solid var(--sklearn-color-text-on-default-background);\n",
       "  flex-grow: 1;\n",
       "}\n",
       "\n",
       "#sk-container-id-1 div.sk-parallel {\n",
       "  display: flex;\n",
       "  align-items: stretch;\n",
       "  justify-content: center;\n",
       "  background-color: var(--sklearn-color-background);\n",
       "  position: relative;\n",
       "}\n",
       "\n",
       "#sk-container-id-1 div.sk-parallel-item {\n",
       "  display: flex;\n",
       "  flex-direction: column;\n",
       "}\n",
       "\n",
       "#sk-container-id-1 div.sk-parallel-item:first-child::after {\n",
       "  align-self: flex-end;\n",
       "  width: 50%;\n",
       "}\n",
       "\n",
       "#sk-container-id-1 div.sk-parallel-item:last-child::after {\n",
       "  align-self: flex-start;\n",
       "  width: 50%;\n",
       "}\n",
       "\n",
       "#sk-container-id-1 div.sk-parallel-item:only-child::after {\n",
       "  width: 0;\n",
       "}\n",
       "\n",
       "/* Serial-specific style estimator block */\n",
       "\n",
       "#sk-container-id-1 div.sk-serial {\n",
       "  display: flex;\n",
       "  flex-direction: column;\n",
       "  align-items: center;\n",
       "  background-color: var(--sklearn-color-background);\n",
       "  padding-right: 1em;\n",
       "  padding-left: 1em;\n",
       "}\n",
       "\n",
       "\n",
       "/* Toggleable style: style used for estimator/Pipeline/ColumnTransformer box that is\n",
       "clickable and can be expanded/collapsed.\n",
       "- Pipeline and ColumnTransformer use this feature and define the default style\n",
       "- Estimators will overwrite some part of the style using the `sk-estimator` class\n",
       "*/\n",
       "\n",
       "/* Pipeline and ColumnTransformer style (default) */\n",
       "\n",
       "#sk-container-id-1 div.sk-toggleable {\n",
       "  /* Default theme specific background. It is overwritten whether we have a\n",
       "  specific estimator or a Pipeline/ColumnTransformer */\n",
       "  background-color: var(--sklearn-color-background);\n",
       "}\n",
       "\n",
       "/* Toggleable label */\n",
       "#sk-container-id-1 label.sk-toggleable__label {\n",
       "  cursor: pointer;\n",
       "  display: flex;\n",
       "  width: 100%;\n",
       "  margin-bottom: 0;\n",
       "  padding: 0.5em;\n",
       "  box-sizing: border-box;\n",
       "  text-align: center;\n",
       "  align-items: start;\n",
       "  justify-content: space-between;\n",
       "  gap: 0.5em;\n",
       "}\n",
       "\n",
       "#sk-container-id-1 label.sk-toggleable__label .caption {\n",
       "  font-size: 0.6rem;\n",
       "  font-weight: lighter;\n",
       "  color: var(--sklearn-color-text-muted);\n",
       "}\n",
       "\n",
       "#sk-container-id-1 label.sk-toggleable__label-arrow:before {\n",
       "  /* Arrow on the left of the label */\n",
       "  content: \"▸\";\n",
       "  float: left;\n",
       "  margin-right: 0.25em;\n",
       "  color: var(--sklearn-color-icon);\n",
       "}\n",
       "\n",
       "#sk-container-id-1 label.sk-toggleable__label-arrow:hover:before {\n",
       "  color: var(--sklearn-color-text);\n",
       "}\n",
       "\n",
       "/* Toggleable content - dropdown */\n",
       "\n",
       "#sk-container-id-1 div.sk-toggleable__content {\n",
       "  max-height: 0;\n",
       "  max-width: 0;\n",
       "  overflow: hidden;\n",
       "  text-align: left;\n",
       "  /* unfitted */\n",
       "  background-color: var(--sklearn-color-unfitted-level-0);\n",
       "}\n",
       "\n",
       "#sk-container-id-1 div.sk-toggleable__content.fitted {\n",
       "  /* fitted */\n",
       "  background-color: var(--sklearn-color-fitted-level-0);\n",
       "}\n",
       "\n",
       "#sk-container-id-1 div.sk-toggleable__content pre {\n",
       "  margin: 0.2em;\n",
       "  border-radius: 0.25em;\n",
       "  color: var(--sklearn-color-text);\n",
       "  /* unfitted */\n",
       "  background-color: var(--sklearn-color-unfitted-level-0);\n",
       "}\n",
       "\n",
       "#sk-container-id-1 div.sk-toggleable__content.fitted pre {\n",
       "  /* unfitted */\n",
       "  background-color: var(--sklearn-color-fitted-level-0);\n",
       "}\n",
       "\n",
       "#sk-container-id-1 input.sk-toggleable__control:checked~div.sk-toggleable__content {\n",
       "  /* Expand drop-down */\n",
       "  max-height: 200px;\n",
       "  max-width: 100%;\n",
       "  overflow: auto;\n",
       "}\n",
       "\n",
       "#sk-container-id-1 input.sk-toggleable__control:checked~label.sk-toggleable__label-arrow:before {\n",
       "  content: \"▾\";\n",
       "}\n",
       "\n",
       "/* Pipeline/ColumnTransformer-specific style */\n",
       "\n",
       "#sk-container-id-1 div.sk-label input.sk-toggleable__control:checked~label.sk-toggleable__label {\n",
       "  color: var(--sklearn-color-text);\n",
       "  background-color: var(--sklearn-color-unfitted-level-2);\n",
       "}\n",
       "\n",
       "#sk-container-id-1 div.sk-label.fitted input.sk-toggleable__control:checked~label.sk-toggleable__label {\n",
       "  background-color: var(--sklearn-color-fitted-level-2);\n",
       "}\n",
       "\n",
       "/* Estimator-specific style */\n",
       "\n",
       "/* Colorize estimator box */\n",
       "#sk-container-id-1 div.sk-estimator input.sk-toggleable__control:checked~label.sk-toggleable__label {\n",
       "  /* unfitted */\n",
       "  background-color: var(--sklearn-color-unfitted-level-2);\n",
       "}\n",
       "\n",
       "#sk-container-id-1 div.sk-estimator.fitted input.sk-toggleable__control:checked~label.sk-toggleable__label {\n",
       "  /* fitted */\n",
       "  background-color: var(--sklearn-color-fitted-level-2);\n",
       "}\n",
       "\n",
       "#sk-container-id-1 div.sk-label label.sk-toggleable__label,\n",
       "#sk-container-id-1 div.sk-label label {\n",
       "  /* The background is the default theme color */\n",
       "  color: var(--sklearn-color-text-on-default-background);\n",
       "}\n",
       "\n",
       "/* On hover, darken the color of the background */\n",
       "#sk-container-id-1 div.sk-label:hover label.sk-toggleable__label {\n",
       "  color: var(--sklearn-color-text);\n",
       "  background-color: var(--sklearn-color-unfitted-level-2);\n",
       "}\n",
       "\n",
       "/* Label box, darken color on hover, fitted */\n",
       "#sk-container-id-1 div.sk-label.fitted:hover label.sk-toggleable__label.fitted {\n",
       "  color: var(--sklearn-color-text);\n",
       "  background-color: var(--sklearn-color-fitted-level-2);\n",
       "}\n",
       "\n",
       "/* Estimator label */\n",
       "\n",
       "#sk-container-id-1 div.sk-label label {\n",
       "  font-family: monospace;\n",
       "  font-weight: bold;\n",
       "  display: inline-block;\n",
       "  line-height: 1.2em;\n",
       "}\n",
       "\n",
       "#sk-container-id-1 div.sk-label-container {\n",
       "  text-align: center;\n",
       "}\n",
       "\n",
       "/* Estimator-specific */\n",
       "#sk-container-id-1 div.sk-estimator {\n",
       "  font-family: monospace;\n",
       "  border: 1px dotted var(--sklearn-color-border-box);\n",
       "  border-radius: 0.25em;\n",
       "  box-sizing: border-box;\n",
       "  margin-bottom: 0.5em;\n",
       "  /* unfitted */\n",
       "  background-color: var(--sklearn-color-unfitted-level-0);\n",
       "}\n",
       "\n",
       "#sk-container-id-1 div.sk-estimator.fitted {\n",
       "  /* fitted */\n",
       "  background-color: var(--sklearn-color-fitted-level-0);\n",
       "}\n",
       "\n",
       "/* on hover */\n",
       "#sk-container-id-1 div.sk-estimator:hover {\n",
       "  /* unfitted */\n",
       "  background-color: var(--sklearn-color-unfitted-level-2);\n",
       "}\n",
       "\n",
       "#sk-container-id-1 div.sk-estimator.fitted:hover {\n",
       "  /* fitted */\n",
       "  background-color: var(--sklearn-color-fitted-level-2);\n",
       "}\n",
       "\n",
       "/* Specification for estimator info (e.g. \"i\" and \"?\") */\n",
       "\n",
       "/* Common style for \"i\" and \"?\" */\n",
       "\n",
       ".sk-estimator-doc-link,\n",
       "a:link.sk-estimator-doc-link,\n",
       "a:visited.sk-estimator-doc-link {\n",
       "  float: right;\n",
       "  font-size: smaller;\n",
       "  line-height: 1em;\n",
       "  font-family: monospace;\n",
       "  background-color: var(--sklearn-color-background);\n",
       "  border-radius: 1em;\n",
       "  height: 1em;\n",
       "  width: 1em;\n",
       "  text-decoration: none !important;\n",
       "  margin-left: 0.5em;\n",
       "  text-align: center;\n",
       "  /* unfitted */\n",
       "  border: var(--sklearn-color-unfitted-level-1) 1pt solid;\n",
       "  color: var(--sklearn-color-unfitted-level-1);\n",
       "}\n",
       "\n",
       ".sk-estimator-doc-link.fitted,\n",
       "a:link.sk-estimator-doc-link.fitted,\n",
       "a:visited.sk-estimator-doc-link.fitted {\n",
       "  /* fitted */\n",
       "  border: var(--sklearn-color-fitted-level-1) 1pt solid;\n",
       "  color: var(--sklearn-color-fitted-level-1);\n",
       "}\n",
       "\n",
       "/* On hover */\n",
       "div.sk-estimator:hover .sk-estimator-doc-link:hover,\n",
       ".sk-estimator-doc-link:hover,\n",
       "div.sk-label-container:hover .sk-estimator-doc-link:hover,\n",
       ".sk-estimator-doc-link:hover {\n",
       "  /* unfitted */\n",
       "  background-color: var(--sklearn-color-unfitted-level-3);\n",
       "  color: var(--sklearn-color-background);\n",
       "  text-decoration: none;\n",
       "}\n",
       "\n",
       "div.sk-estimator.fitted:hover .sk-estimator-doc-link.fitted:hover,\n",
       ".sk-estimator-doc-link.fitted:hover,\n",
       "div.sk-label-container:hover .sk-estimator-doc-link.fitted:hover,\n",
       ".sk-estimator-doc-link.fitted:hover {\n",
       "  /* fitted */\n",
       "  background-color: var(--sklearn-color-fitted-level-3);\n",
       "  color: var(--sklearn-color-background);\n",
       "  text-decoration: none;\n",
       "}\n",
       "\n",
       "/* Span, style for the box shown on hovering the info icon */\n",
       ".sk-estimator-doc-link span {\n",
       "  display: none;\n",
       "  z-index: 9999;\n",
       "  position: relative;\n",
       "  font-weight: normal;\n",
       "  right: .2ex;\n",
       "  padding: .5ex;\n",
       "  margin: .5ex;\n",
       "  width: min-content;\n",
       "  min-width: 20ex;\n",
       "  max-width: 50ex;\n",
       "  color: var(--sklearn-color-text);\n",
       "  box-shadow: 2pt 2pt 4pt #999;\n",
       "  /* unfitted */\n",
       "  background: var(--sklearn-color-unfitted-level-0);\n",
       "  border: .5pt solid var(--sklearn-color-unfitted-level-3);\n",
       "}\n",
       "\n",
       ".sk-estimator-doc-link.fitted span {\n",
       "  /* fitted */\n",
       "  background: var(--sklearn-color-fitted-level-0);\n",
       "  border: var(--sklearn-color-fitted-level-3);\n",
       "}\n",
       "\n",
       ".sk-estimator-doc-link:hover span {\n",
       "  display: block;\n",
       "}\n",
       "\n",
       "/* \"?\"-specific style due to the `<a>` HTML tag */\n",
       "\n",
       "#sk-container-id-1 a.estimator_doc_link {\n",
       "  float: right;\n",
       "  font-size: 1rem;\n",
       "  line-height: 1em;\n",
       "  font-family: monospace;\n",
       "  background-color: var(--sklearn-color-background);\n",
       "  border-radius: 1rem;\n",
       "  height: 1rem;\n",
       "  width: 1rem;\n",
       "  text-decoration: none;\n",
       "  /* unfitted */\n",
       "  color: var(--sklearn-color-unfitted-level-1);\n",
       "  border: var(--sklearn-color-unfitted-level-1) 1pt solid;\n",
       "}\n",
       "\n",
       "#sk-container-id-1 a.estimator_doc_link.fitted {\n",
       "  /* fitted */\n",
       "  border: var(--sklearn-color-fitted-level-1) 1pt solid;\n",
       "  color: var(--sklearn-color-fitted-level-1);\n",
       "}\n",
       "\n",
       "/* On hover */\n",
       "#sk-container-id-1 a.estimator_doc_link:hover {\n",
       "  /* unfitted */\n",
       "  background-color: var(--sklearn-color-unfitted-level-3);\n",
       "  color: var(--sklearn-color-background);\n",
       "  text-decoration: none;\n",
       "}\n",
       "\n",
       "#sk-container-id-1 a.estimator_doc_link.fitted:hover {\n",
       "  /* fitted */\n",
       "  background-color: var(--sklearn-color-fitted-level-3);\n",
       "}\n",
       "</style><div id=\"sk-container-id-1\" class=\"sk-top-container\"><div class=\"sk-text-repr-fallback\"><pre>RandomForestRegressor(n_estimators=30, n_jobs=-1, random_state=42)</pre><b>In a Jupyter environment, please rerun this cell to show the HTML representation or trust the notebook. <br />On GitHub, the HTML representation is unable to render, please try loading this page with nbviewer.org.</b></div><div class=\"sk-container\" hidden><div class=\"sk-item\"><div class=\"sk-estimator fitted sk-toggleable\"><input class=\"sk-toggleable__control sk-hidden--visually\" id=\"sk-estimator-id-1\" type=\"checkbox\" checked><label for=\"sk-estimator-id-1\" class=\"sk-toggleable__label fitted sk-toggleable__label-arrow\"><div><div>RandomForestRegressor</div></div><div><a class=\"sk-estimator-doc-link fitted\" rel=\"noreferrer\" target=\"_blank\" href=\"https://scikit-learn.org/1.6/modules/generated/sklearn.ensemble.RandomForestRegressor.html\">?<span>Documentation for RandomForestRegressor</span></a><span class=\"sk-estimator-doc-link fitted\">i<span>Fitted</span></span></div></label><div class=\"sk-toggleable__content fitted\"><pre>RandomForestRegressor(n_estimators=30, n_jobs=-1, random_state=42)</pre></div> </div></div></div></div>"
      ],
      "text/plain": [
       "RandomForestRegressor(n_estimators=30, n_jobs=-1, random_state=42)"
      ]
     },
     "execution_count": 177,
     "metadata": {},
     "output_type": "execute_result"
    }
   ],
   "source": [
    "rf = RandomForestRegressor(random_state=42, n_estimators=30,n_jobs=-1)\n",
    "rf.fit(X_train, y_train)"
   ]
  },
  {
   "cell_type": "code",
   "execution_count": null,
   "id": "617083da",
   "metadata": {},
   "outputs": [],
   "source": [
    "X_pred = df_null.drop(columns='tot_cur_bal')\n",
    "predicted_values = rf.predict(X_pred)"
   ]
  },
  {
   "cell_type": "code",
   "execution_count": null,
   "id": "bb0f3264",
   "metadata": {},
   "outputs": [],
   "source": [
    "data_cleaned.loc[data_cleaned['tot_cur_bal'].isnull(), 'tot_cur_bal'] = predicted_values"
   ]
  },
  {
   "cell_type": "code",
   "execution_count": null,
   "id": "294fe718",
   "metadata": {},
   "outputs": [
    {
     "name": "stdout",
     "output_type": "stream",
     "text": [
      "<class 'pandas.core.frame.DataFrame'>\n",
      "Index: 268530 entries, 0 to 887371\n",
      "Data columns (total 20 columns):\n",
      " #   Column                      Non-Null Count   Dtype  \n",
      "---  ------                      --------------   -----  \n",
      " 0   loan_amnt                   268530 non-null  float64\n",
      " 1   emp_length                  268530 non-null  object \n",
      " 2   home_ownership              268530 non-null  object \n",
      " 3   annual_inc                  268530 non-null  float64\n",
      " 4   purpose                     268530 non-null  object \n",
      " 5   addr_state                  268530 non-null  object \n",
      " 6   dti                         268530 non-null  float64\n",
      " 7   delinq_2yrs                 268530 non-null  float64\n",
      " 8   earliest_cr_line            268530 non-null  object \n",
      " 9   inq_last_6mths              268530 non-null  float64\n",
      " 10  open_acc                    268530 non-null  float64\n",
      " 11  pub_rec                     268530 non-null  float64\n",
      " 12  revol_bal                   268530 non-null  float64\n",
      " 13  revol_util                  268530 non-null  float64\n",
      " 14  total_acc                   268530 non-null  float64\n",
      " 15  collections_12_mths_ex_med  268530 non-null  float64\n",
      " 16  application_type            268530 non-null  object \n",
      " 17  acc_now_delinq              268530 non-null  float64\n",
      " 18  tot_cur_bal                 268530 non-null  float64\n",
      " 19  loan_status_bin             268530 non-null  float64\n",
      "dtypes: float64(14), object(6)\n",
      "memory usage: 43.0+ MB\n"
     ]
    }
   ],
   "source": [
    "data_cleaned.info()"
   ]
  },
  {
   "cell_type": "markdown",
   "id": "1c9a6f73",
   "metadata": {},
   "source": [
    "Hasta se hace el preprocesamiento inicial del dataset, donde tenemos un total de 19 variables predictoras relacionadas con las caracteristicas iniciales de la persona para conocer su situación crediticia y la variable target loan_status_bin."
   ]
  },
  {
   "cell_type": "code",
   "execution_count": null,
   "id": "ef3167dc",
   "metadata": {},
   "outputs": [],
   "source": [
    "data_cleaned.to_csv('../data/processed/clean_data.csv', sep=',', index=False)"
   ]
  },
  {
   "cell_type": "code",
   "execution_count": null,
   "id": "d45397aa",
   "metadata": {},
   "outputs": [],
   "source": [
    "data_cleaned.head(1000).to_clipboard()"
   ]
  },
  {
   "cell_type": "code",
   "execution_count": null,
   "id": "6caf9008",
   "metadata": {},
   "outputs": [
    {
     "data": {
      "text/plain": [
       "(8, array([ 0., nan,  1.,  2.,  4.,  3.,  6.,  5.]))"
      ]
     },
     "execution_count": 158,
     "metadata": {},
     "output_type": "execute_result"
    }
   ],
   "source": [
    "len(data_cleaned['collections_12_mths_ex_med'].unique()),data_cleaned['collections_12_mths_ex_med'].unique()"
   ]
  }
 ],
 "metadata": {
  "kernelspec": {
   "display_name": "base",
   "language": "python",
   "name": "python3"
  },
  "language_info": {
   "codemirror_mode": {
    "name": "ipython",
    "version": 3
   },
   "file_extension": ".py",
   "mimetype": "text/x-python",
   "name": "python",
   "nbconvert_exporter": "python",
   "pygments_lexer": "ipython3",
   "version": "3.12.7"
  }
 },
 "nbformat": 4,
 "nbformat_minor": 5
}
