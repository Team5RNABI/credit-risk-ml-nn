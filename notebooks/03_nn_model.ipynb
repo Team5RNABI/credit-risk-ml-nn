{
 "cells": [
  {
   "cell_type": "code",
   "execution_count": null,
   "id": "4828f55e",
   "metadata": {},
   "outputs": [],
   "source": [
    "# Convertir variables categoricas en variables dummies. OneHot Encoding\n",
    "# Standarizar\n",
    "# Evaluar como funcionan los modelos inicialmente, en caso de que no den buenos resultados:\n",
    "    # Probar con balanceo de clase.\n",
    "    # Discretizar variables numéricas continuas, generando intervalos se puede utilizar WoE.\n",
    "    # Probar con ambos conjuntos de datos. "
   ]
  },
  {
   "cell_type": "code",
   "execution_count": null,
   "id": "5a6aa0a1",
   "metadata": {},
   "outputs": [],
   "source": []
  }
 ],
 "metadata": {
  "language_info": {
   "name": "python"
  }
 },
 "nbformat": 4,
 "nbformat_minor": 5
}
